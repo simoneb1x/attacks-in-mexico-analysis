{
 "cells": [
  {
   "cell_type": "markdown",
   "metadata": {},
   "source": [
    "# Attacks in Mexico during elections\n",
    "\n",
    "_I dataset sono stati prelevati dall'Harvard Dataverse – British Journal of Political Science Dataverse. The bibliography can be found at the end of this notebook._\n",
    "\n",
    "The motivation for the dataset lies in a surprising wave of attacks characterized by high-profile violence and perpetrated by Mexican drug cartels. These attacks were directed against hundreds of political candidates between 2007 and 2012. \n",
    "\n",
    "The researchers suggest that the attacks were perpetrated in an attempt to establish criminal governance, demonstrating the vulnerability of Mexican politics."
   ]
  },
  {
   "cell_type": "markdown",
   "metadata": {},
   "source": [
    "## Loading the data\n",
    "\n",
    "In the file [Dataset_HighProfileCriminalViolence.tab](Dataset_HighProfileCriminalViolence.tab) are listed the number of attacks occurred to elected officials in Mexico between 2007 and 2012.\n",
    "\n",
    "We will extract Mexican state codes, names, the counts of attacks, and the years when **local** elections occurred, and return a dictionary of dictionaries mapping **two digit** state codes **as strings** to the extracted info."
   ]
  },
  {
   "cell_type": "code",
   "execution_count": 5,
   "metadata": {},
   "outputs": [
    {
     "ename": "Exception",
     "evalue": "TODO IMPLEMENT ME !",
     "output_type": "error",
     "traceback": [
      "\u001b[0;31m---------------------------------------------------------------------------\u001b[0m",
      "\u001b[0;31mException\u001b[0m                                 Traceback (most recent call last)",
      "\u001b[1;32m/Users/simonebellavia/Documents/attacks-in-mexico-analysis/notebook.ipynb Cell 3'\u001b[0m in \u001b[0;36m<module>\u001b[0;34m\u001b[0m\n\u001b[1;32m      <a href='vscode-notebook-cell:/Users/simonebellavia/Documents/attacks-in-mexico-analysis/notebook.ipynb#ch0000002?line=5'>6</a>\u001b[0m \u001b[39mdef\u001b[39;00m \u001b[39mload\u001b[39m(filename):\n\u001b[1;32m      <a href='vscode-notebook-cell:/Users/simonebellavia/Documents/attacks-in-mexico-analysis/notebook.ipynb#ch0000002?line=6'>7</a>\u001b[0m     \u001b[39mraise\u001b[39;00m \u001b[39mException\u001b[39;00m(\u001b[39m'\u001b[39m\u001b[39mTODO IMPLEMENT ME !\u001b[39m\u001b[39m'\u001b[39m)\n\u001b[0;32m----> <a href='vscode-notebook-cell:/Users/simonebellavia/Documents/attacks-in-mexico-analysis/notebook.ipynb#ch0000002?line=8'>9</a>\u001b[0m mexico_db \u001b[39m=\u001b[39m load(\u001b[39m'\u001b[39;49m\u001b[39mDataset_HighProfileCriminalViolence.tab\u001b[39;49m\u001b[39m'\u001b[39;49m)\n\u001b[1;32m     <a href='vscode-notebook-cell:/Users/simonebellavia/Documents/attacks-in-mexico-analysis/notebook.ipynb#ch0000002?line=9'>10</a>\u001b[0m mexico_db\n",
      "\u001b[1;32m/Users/simonebellavia/Documents/attacks-in-mexico-analysis/notebook.ipynb Cell 3'\u001b[0m in \u001b[0;36mload\u001b[0;34m(filename)\u001b[0m\n\u001b[1;32m      <a href='vscode-notebook-cell:/Users/simonebellavia/Documents/attacks-in-mexico-analysis/notebook.ipynb#ch0000002?line=5'>6</a>\u001b[0m \u001b[39mdef\u001b[39;00m \u001b[39mload\u001b[39m(filename):\n\u001b[0;32m----> <a href='vscode-notebook-cell:/Users/simonebellavia/Documents/attacks-in-mexico-analysis/notebook.ipynb#ch0000002?line=6'>7</a>\u001b[0m     \u001b[39mraise\u001b[39;00m \u001b[39mException\u001b[39;00m(\u001b[39m'\u001b[39m\u001b[39mTODO IMPLEMENT ME !\u001b[39m\u001b[39m'\u001b[39m)\n",
      "\u001b[0;31mException\u001b[0m: TODO IMPLEMENT ME !"
     ]
    }
   ],
   "source": [
    "# Imports\n",
    "\n",
    "import csv\n",
    "from pprint import pprint\n",
    "\n",
    "def load(filename):\n",
    "\n",
    "    # Declaring the variables that I need to return the correct dictionary\n",
    "    ret = {}\n",
    "    id_municipality = ''\n",
    "\n",
    "    # Opening the file as f\n",
    "    with open(filename, encoding='utf-8', newline='') as f:\n",
    "\n",
    "        # Creating a new variable and I assign it a csv DictReader with delimiter='\\t' and utf8 encoding\n",
    "        my_reader = csv.DictReader(f, delimiter='\\t')  \n",
    "\n",
    "        # Adding into the dictionary the codes of each municipality\n",
    "        for row in my_reader:\n",
    "            pass\n",
    "\n",
    "mexico_db = load('Dataset_HighProfileCriminalViolence.tab')\n",
    "mexico_db"
   ]
  },
  {
   "cell_type": "markdown",
   "metadata": {},
   "source": [
    "### Testing"
   ]
  },
  {
   "cell_type": "code",
   "execution_count": null,
   "metadata": {},
   "outputs": [],
   "source": [
    "from expected_mexico_db import expected_mexico_db\n",
    "from pprint import pformat\n",
    "\n",
    "for sid in expected_mexico_db.keys():\n",
    "    if sid not in mexico_db: print('\\nERROR: MISSING state', sid); break    \n",
    "    for k in expected_mexico_db[sid]:\n",
    "        if k not in mexico_db[sid]:\n",
    "            print('\\nERROR at state', sid,'\\n\\n   MISSING key:', k); break    \n",
    "        if expected_mexico_db[sid][k] != mexico_db[sid][k]:\n",
    "            print('\\nERROR at state', sid, 'key:',k)\n",
    "            print('  ACTUAL:\\n', pformat(mexico_db[sid][k]))\n",
    "            print('  EXPECTED:\\n', pformat(expected_mexico_db[sid][k]))\n",
    "            break"
   ]
  },
  {
   "cell_type": "markdown",
   "metadata": {},
   "source": [
    "## Attacks visualization"
   ]
  },
  {
   "cell_type": "markdown",
   "metadata": {},
   "source": [
    "## Cartels visualization"
   ]
  },
  {
   "cell_type": "markdown",
   "metadata": {},
   "source": []
  }
 ],
 "metadata": {
  "interpreter": {
   "hash": "aee8b7b246df8f9039afb4144a1f6fd8d2ca17a180786b69acc140d282b71a49"
  },
  "kernelspec": {
   "display_name": "Python 3.10.1 64-bit",
   "language": "python",
   "name": "python3"
  },
  "language_info": {
   "codemirror_mode": {
    "name": "ipython",
    "version": 3
   },
   "file_extension": ".py",
   "mimetype": "text/x-python",
   "name": "python",
   "nbconvert_exporter": "python",
   "pygments_lexer": "ipython3",
   "version": "3.10.1"
  },
  "orig_nbformat": 4
 },
 "nbformat": 4,
 "nbformat_minor": 2
}
