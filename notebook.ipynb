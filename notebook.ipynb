{
 "cells": [
  {
   "cell_type": "markdown",
   "metadata": {},
   "source": [
    "# Attacks in Mexico during elections\n",
    "\n",
    "_I dataset sono stati prelevati dall'Harvard Dataverse – British Journal of Political Science Dataverse. The bibliography can be found at the end of this notebook._\n",
    "\n",
    "The motivation for the dataset lies in a surprising wave of attacks characterized by high-profile violence and perpetrated by Mexican drug cartels. These attacks were directed against hundreds of political candidates between 2007 and 2012. \n",
    "\n",
    "The researchers suggest that the attacks were perpetrated in an attempt to establish criminal governance, demonstrating the vulnerability of Mexican politics."
   ]
  },
  {
   "cell_type": "markdown",
   "metadata": {},
   "source": [
    "## Loading the data\n",
    "\n",
    "In the file [Dataset_HighProfileCriminalViolence.tab](Dataset_HighProfileCriminalViolence.tab) are listed the number of attacks occurred to elected officials in Mexico between 2007 and 2012.\n",
    "\n",
    "We will extract Mexican state codes, names, the counts of attacks, and the years when **local** elections occurred, and return a dictionary of dictionaries mapping **two digit** state codes **as strings** to the extracted info."
   ]
  },
  {
   "cell_type": "code",
   "execution_count": 7,
   "metadata": {},
   "outputs": [],
   "source": [
    "# Imports\n",
    "\n",
    "import csv\n",
    "from pprint import pprint\n",
    "\n",
    "\n",
    "def load(filename):\n",
    "\n",
    "    # Declaring the variables that I need to return the correct dictionary\n",
    "    ret = {}\n",
    "    id_municipality = ''\n",
    "\n",
    "    # Opening the file as f\n",
    "    with open(filename, encoding='utf-8', newline='') as f:\n",
    "\n",
    "        # Creating a new variable and I assign it a csv DictReader with delimiter='\\t' and utf8 encoding\n",
    "        my_reader = csv.DictReader(f, delimiter='\\t')\n",
    "\n",
    "        # Adding into the dictionary the codes of each municipality\n",
    "        for row in my_reader:\n",
    "\n",
    "            if len(row['cve_inegi']) == 4:\n",
    "                id_municipality = \"0\" + row['cve_inegi'][0:1]\n",
    "            else:\n",
    "                id_municipality = row['cve_inegi'][0:2]\n",
    "\n",
    "            # If id_municipality is already in ret, it updates the values\n",
    "            # else, id_municipality is added in ret\n",
    "            if id_municipality in ret:\n",
    "                if row['elect_local'] == '1.0' and ret[id_municipality]['local_election_years'].count(int(row['year'])) < 1:\n",
    "                    ret[id_municipality]['local_election_years'].append(\n",
    "                        int(row['year']))\n",
    "\n",
    "                if row['year'] == '2007':\n",
    "                    ret[id_municipality]['attacks'][0] += int(row['aggr_sum'])\n",
    "                if row['year'] == '2008':\n",
    "                    ret[id_municipality]['attacks'][1] += int(row['aggr_sum'])\n",
    "                if row['year'] == '2009':\n",
    "                    ret[id_municipality]['attacks'][2] += int(row['aggr_sum'])\n",
    "                if row['year'] == '2010':\n",
    "                    ret[id_municipality]['attacks'][3] += int(row['aggr_sum'])\n",
    "                if row['year'] == '2011':\n",
    "                    ret[id_municipality]['attacks'][4] += int(row['aggr_sum'])\n",
    "                if row['year'] == '2012':\n",
    "                    ret[id_municipality]['attacks'][5] += int(row['aggr_sum'])\n",
    "            else:\n",
    "                ret[id_municipality] = {\n",
    "                    'attacks': [0, 0, 0, 0, 0, 0],\n",
    "                    'local_election_years': [],\n",
    "                    'state_code': id_municipality,\n",
    "                    'state_name': row['state'],\n",
    "                }\n",
    "\n",
    "\n",
    "mexico_db = load('Dataset_HighProfileCriminalViolence.tab')\n",
    "mexico_db\n"
   ]
  },
  {
   "cell_type": "markdown",
   "metadata": {},
   "source": [
    "### Testing"
   ]
  },
  {
   "cell_type": "code",
   "execution_count": null,
   "metadata": {},
   "outputs": [],
   "source": [
    "from expected_mexico_db import expected_mexico_db\n",
    "from pprint import pformat\n",
    "\n",
    "for sid in expected_mexico_db.keys():\n",
    "    if sid not in mexico_db: print('\\nERROR: MISSING state', sid); break    \n",
    "    for k in expected_mexico_db[sid]:\n",
    "        if k not in mexico_db[sid]:\n",
    "            print('\\nERROR at state', sid,'\\n\\n   MISSING key:', k); break    \n",
    "        if expected_mexico_db[sid][k] != mexico_db[sid][k]:\n",
    "            print('\\nERROR at state', sid, 'key:',k)\n",
    "            print('  ACTUAL:\\n', pformat(mexico_db[sid][k]))\n",
    "            print('  EXPECTED:\\n', pformat(expected_mexico_db[sid][k]))\n",
    "            break"
   ]
  },
  {
   "cell_type": "markdown",
   "metadata": {},
   "source": [
    "## Attacks visualization"
   ]
  },
  {
   "cell_type": "markdown",
   "metadata": {},
   "source": [
    "## Cartels visualization"
   ]
  },
  {
   "cell_type": "markdown",
   "metadata": {},
   "source": []
  }
 ],
 "metadata": {
  "interpreter": {
   "hash": "aee8b7b246df8f9039afb4144a1f6fd8d2ca17a180786b69acc140d282b71a49"
  },
  "kernelspec": {
   "display_name": "Python 3.10.1 64-bit",
   "language": "python",
   "name": "python3"
  },
  "language_info": {
   "codemirror_mode": {
    "name": "ipython",
    "version": 3
   },
   "file_extension": ".py",
   "mimetype": "text/x-python",
   "name": "python",
   "nbconvert_exporter": "python",
   "pygments_lexer": "ipython3",
   "version": "3.10.1"
  },
  "orig_nbformat": 4
 },
 "nbformat": 4,
 "nbformat_minor": 2
}
