{
 "cells": [
  {
   "cell_type": "markdown",
   "metadata": {},
   "source": [
    "# Attacks in Mexico during elections\n",
    "\n",
    "_Dataset comes from Harvard Dataverse (Trejo & Ley, 2019). References can be found at the end of this notebook._\n",
    "\n",
    "The motivation for the dataset lies in a surprising wave of attacks characterized by high-profile violence and perpetrated by Mexican drug cartels. These attacks were directed against hundreds of political candidates between 2007 and 2012. \n",
    "\n",
    "The researchers suggest that the attacks were perpetrated in an attempt to establish criminal governance, demonstrating the vulnerability of Mexican politics."
   ]
  },
  {
   "cell_type": "markdown",
   "metadata": {},
   "source": [
    "## The data"
   ]
  },
  {
   "cell_type": "markdown",
   "metadata": {},
   "source": [
    "- cve_inegi: Municipal INEGI code\n",
    "- state: State name\n",
    "- municipality: Municipality name\n",
    "- year: Year\n",
    "- aggr_sum: Total number of attacks (murders, murder attempts, kidnappings, and public threats) by organized crime against government officials and party candidates and activists per municipality-year\n",
    "- elect_local: Election year at the local level (governor and/or mayor)"
   ]
  },
  {
   "cell_type": "markdown",
   "metadata": {},
   "source": [
    "## Loading the data\n",
    "\n",
    "The dataset [Dataset_HighProfileCriminalViolence.tab](Dataset_HighProfileCriminalViolence.tab) contains the number of attacks occurred to elected officials in Mexico between 2007 and 2012.\n",
    "\n",
    "We will extract:\n",
    "\n",
    "- Mexican state codes (_state_code_)\n",
    "- names (_state_name_)\n",
    "- counts of attacks (_attacks_)\n",
    "- years when **local** elections occurred (_local_election_years_)\n",
    "\n",
    "and return a dictionary of dictionaries _ret_, mapping two digit state codes as strings to the extracted info."
   ]
  },
  {
   "cell_type": "code",
   "execution_count": null,
   "metadata": {},
   "outputs": [],
   "source": [
    "# Imports\n",
    "\n",
    "import csv\n",
    "from pprint import pprint\n",
    "\n",
    "\n",
    "def load(filename):\n",
    "\n",
    "    # Declaring the variables that I need to return the correct dictionary\n",
    "    ret = {}\n",
    "    id_municipality = ''\n",
    "\n",
    "    # Opening the file as f\n",
    "    with open(filename, encoding='utf-8', newline='') as f:\n",
    "\n",
    "        # Creating a new variable and I assign it a csv DictReader with delimiter='\\t' and utf8 encoding\n",
    "        my_reader = csv.DictReader(f, delimiter='\\t')\n",
    "\n",
    "        # Adding into the dictionary the codes of each municipality\n",
    "        for row in my_reader:\n",
    "\n",
    "            if len(row['cve_inegi']) == 4:\n",
    "                id_municipality = \"0\" + row['cve_inegi'][0:1]\n",
    "            else:\n",
    "                id_municipality = row['cve_inegi'][0:2]\n",
    "\n",
    "            # If id_municipality is already in ret, it updates the values\n",
    "            # else, id_municipality is added in ret\n",
    "            if id_municipality in ret:\n",
    "                if row['elect_local'] == '1.0' and ret[id_municipality]['local_election_years'].count(int(row['year'])) < 1:\n",
    "                    ret[id_municipality]['local_election_years'].append(\n",
    "                        int(row['year']))\n",
    "\n",
    "                if row['year'] == '2007':\n",
    "                    ret[id_municipality]['attacks'][0] += int(row['aggr_sum'])\n",
    "                if row['year'] == '2008':\n",
    "                    ret[id_municipality]['attacks'][1] += int(row['aggr_sum'])\n",
    "                if row['year'] == '2009':\n",
    "                    ret[id_municipality]['attacks'][2] += int(row['aggr_sum'])\n",
    "                if row['year'] == '2010':\n",
    "                    ret[id_municipality]['attacks'][3] += int(row['aggr_sum'])\n",
    "                if row['year'] == '2011':\n",
    "                    ret[id_municipality]['attacks'][4] += int(row['aggr_sum'])\n",
    "                if row['year'] == '2012':\n",
    "                    ret[id_municipality]['attacks'][5] += int(row['aggr_sum'])\n",
    "            else:\n",
    "                ret[id_municipality] = {\n",
    "                    'attacks': [0, 0, 0, 0, 0, 0],\n",
    "                    'local_election_years': [],\n",
    "                    'state_code': id_municipality,\n",
    "                    'state_name': row['state'],\n",
    "                }\n",
    "        \n",
    "        for entities in ret:\n",
    "            ret[entities]['local_election_years'] = sorted(ret[entities]['local_election_years'])\n",
    "\n",
    "    return ret\n",
    "\n",
    "mexico_db = load('Dataset_HighProfileCriminalViolence.tab')\n"
   ]
  },
  {
   "cell_type": "markdown",
   "metadata": {},
   "source": [
    "Example of output:\n",
    "\n",
    "            {'01': {'attacks': [0, 0, 0, 0, 0, 0],\n",
    "                    'local_election_years': [2007, 2010],\n",
    "                    'state_code': '01',\n",
    "                    'state_name': 'Aguascalientes'},\n",
    "            '02': {'attacks': [1, 0, 1, 1, 0, 0],\n",
    "                    'local_election_years': [2007, 2010],\n",
    "                    'state_code': '02',\n",
    "                    'state_name': 'Baja California'},\n",
    "            '03': {'attacks': [0, 0, 0, 0, 0, 0],\n",
    "                    'local_election_years': [2008, 2011],\n",
    "                    'state_code': '03',\n",
    "                    'state_name': 'Baja California Sur'},"
   ]
  },
  {
   "cell_type": "markdown",
   "metadata": {},
   "source": [
    "### Testing"
   ]
  },
  {
   "cell_type": "code",
   "execution_count": null,
   "metadata": {},
   "outputs": [],
   "source": [
    "from expected_mexico_db import expected_mexico_db\n",
    "from pprint import pformat\n",
    "\n",
    "for sid in expected_mexico_db.keys():\n",
    "    if sid not in mexico_db: print('\\nERROR: MISSING state', sid); break    \n",
    "    for k in expected_mexico_db[sid]:\n",
    "        if k not in mexico_db[sid]:\n",
    "            print('\\nERROR at state', sid,'\\n\\n   MISSING key:', k); break    \n",
    "        if expected_mexico_db[sid][k] != mexico_db[sid][k]:\n",
    "            print('\\nERROR at state', sid, 'key:',k)\n",
    "            print('  ACTUAL:\\n', pformat(mexico_db[sid][k]))\n",
    "            print('  EXPECTED:\\n', pformat(expected_mexico_db[sid][k]))\n",
    "            break"
   ]
  },
  {
   "cell_type": "markdown",
   "metadata": {},
   "source": [
    "## Attacks visualization\n",
    "\n",
    "Given a _state_code_ we will display a chart of the attack counts over the years."
   ]
  },
  {
   "cell_type": "code",
   "execution_count": null,
   "metadata": {},
   "outputs": [],
   "source": [
    "# Importing matplotlib\n",
    "%matplotlib inline\n",
    "import matplotlib.pyplot as plt\n",
    "\n",
    "def max_attack_val(mexdb):\n",
    "    max_val = 0\n",
    "    for r in mexdb:\n",
    "        max_val = max(max_val, max(mexdb[r]['attacks']))\n",
    "    return max_val\n",
    "\n",
    "\n",
    "def show_attacks(state_code, mexdb, val):\n",
    "\n",
    "    plt.figure(figsize=(3.5,2))\n",
    "                \n",
    "    xs = range(2007, 2013)\n",
    "    ys = mexdb[state_code]['attacks']\n",
    "    \n",
    "    plt.plot(xs, ys, color='orange')\n",
    "    \n",
    "    max_val = val\n",
    "    \n",
    "    plt.title(\"Attacks per year in\" + \" \" +mexico_db[state_code]['state_name'])\n",
    "    plt.xlabel('Year')\n",
    "    plt.ylabel('Number of attacks')\n",
    "\n",
    "    for year in mexdb[state_code]['local_election_years']:\n",
    "        plt.plot([year, year], [0, max_val], color='lightgreen', linestyle='dashed')\n",
    "\n",
    "print(\"Max attacks happened in any state:\", max_attack_val(mexico_db))\n",
    "show_attacks('12', mexico_db, max_attack_val(mexico_db)) # Guerrero\n",
    "show_attacks('16', mexico_db, max_attack_val(mexico_db)) # Michoacan"
   ]
  },
  {
   "cell_type": "markdown",
   "metadata": {},
   "source": [
    "## Cartels visualization"
   ]
  },
  {
   "cell_type": "markdown",
   "metadata": {},
   "source": [
    "_TO BE IMPLEMENTED_"
   ]
  },
  {
   "cell_type": "markdown",
   "metadata": {},
   "source": [
    "## References\n",
    "\n",
    "- Trejo, Guillermo; Ley, Sandra, 2019, \"Replication Data for: High-Profile Criminal Violence. Why Drug Cartels Murder Government Officials and Party Candidates in Mexico\", \n",
    "https://doi.org/10.7910/DVN/VIXNNE, Harvard Dataverse, V1, UNF:6:BcqInKD9NBX3NkI48CdqpQ== [fileUNF]\n"
   ]
  },
  {
   "cell_type": "markdown",
   "metadata": {},
   "source": []
  }
 ],
 "metadata": {
  "interpreter": {
   "hash": "aee8b7b246df8f9039afb4144a1f6fd8d2ca17a180786b69acc140d282b71a49"
  },
  "kernelspec": {
   "display_name": "Python 3.10.1 64-bit",
   "language": "python",
   "name": "python3"
  },
  "language_info": {
   "codemirror_mode": {
    "name": "ipython",
    "version": 3
   },
   "file_extension": ".py",
   "mimetype": "text/x-python",
   "name": "python",
   "nbconvert_exporter": "python",
   "pygments_lexer": "ipython3",
   "version": "3.9.7"
  },
  "orig_nbformat": 4
 },
 "nbformat": 4,
 "nbformat_minor": 2
}
